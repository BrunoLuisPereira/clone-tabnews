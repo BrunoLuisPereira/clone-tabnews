{
  "nbformat": 4,
  "nbformat_minor": 0,
  "metadata": {
    "colab": {
      "provenance": [],
      "authorship_tag": "ABX9TyOq9Fl+w4qtFDKpCefaN4iH",
      "include_colab_link": true
    },
    "kernelspec": {
      "name": "python3",
      "display_name": "Python 3"
    },
    "language_info": {
      "name": "python"
    }
  },
  "cells": [
    {
      "cell_type": "markdown",
      "metadata": {
        "id": "view-in-github",
        "colab_type": "text"
      },
      "source": [
        "<a href=\"https://colab.research.google.com/github/BrunoLuisPereira/clone-tabnews/blob/main/Introdu%C3%A7%C3%A3oaoPandas.ipynb\" target=\"_parent\"><img src=\"https://colab.research.google.com/assets/colab-badge.svg\" alt=\"Open In Colab\"/></a>"
      ]
    },
    {
      "cell_type": "code",
      "execution_count": null,
      "metadata": {
        "id": "raCQv4Pe2PWn"
      },
      "outputs": [],
      "source": []
    },
    {
      "cell_type": "markdown",
      "source": [
        "Introdução a biblioteca Pandas"
      ],
      "metadata": {
        "id": "u-YmDxWW2S8d"
      }
    },
    {
      "cell_type": "markdown",
      "source": [
        "Etapa 1: Com Dados digitados"
      ],
      "metadata": {
        "id": "yEPuBVQX2WYm"
      }
    },
    {
      "cell_type": "code",
      "source": [
        "import pandas as pd"
      ],
      "metadata": {
        "id": "vvzCzbj32ffs"
      },
      "execution_count": 1,
      "outputs": []
    },
    {
      "cell_type": "markdown",
      "source": [
        "### Criando Series\n",
        "Uma Series é um array unidimensional com rotulos (indices)"
      ],
      "metadata": {
        "id": "is7WQNuE2o_3"
      }
    },
    {
      "cell_type": "code",
      "source": [
        "s = pd.Series([10, 20, 30, 40, 50])\n",
        "print(s)"
      ],
      "metadata": {
        "colab": {
          "base_uri": "https://localhost:8080/"
        },
        "id": "nWlnSeD22zR8",
        "outputId": "54ed5bd9-2576-47ce-98f5-b8b8c1179bf2"
      },
      "execution_count": 3,
      "outputs": [
        {
          "output_type": "stream",
          "name": "stdout",
          "text": [
            "0    10\n",
            "1    20\n",
            "2    30\n",
            "3    40\n",
            "4    50\n",
            "dtype: int64\n"
          ]
        }
      ]
    },
    {
      "cell_type": "markdown",
      "source": [
        "Acessando os Valores e Indices"
      ],
      "metadata": {
        "id": "HQKP_a3r3ceo"
      }
    },
    {
      "cell_type": "code",
      "source": [
        "print (s.values)"
      ],
      "metadata": {
        "colab": {
          "base_uri": "https://localhost:8080/"
        },
        "id": "-_HF7tw43fOt",
        "outputId": "56228ee3-0789-404b-e2a4-28eea6dede70"
      },
      "execution_count": 4,
      "outputs": [
        {
          "output_type": "stream",
          "name": "stdout",
          "text": [
            "[10 20 30 40 50]\n"
          ]
        }
      ]
    },
    {
      "cell_type": "code",
      "source": [
        "Acessando os indices de sereies"
      ],
      "metadata": {
        "id": "4pN-5g-u3n4B"
      },
      "execution_count": null,
      "outputs": []
    },
    {
      "cell_type": "code",
      "source": [
        "print(s.index)"
      ],
      "metadata": {
        "colab": {
          "base_uri": "https://localhost:8080/"
        },
        "id": "nVui74zp30hW",
        "outputId": "15d873d0-dbe2-4946-b834-60c26a7ae1f5"
      },
      "execution_count": 5,
      "outputs": [
        {
          "output_type": "stream",
          "name": "stdout",
          "text": [
            "RangeIndex(start=0, stop=5, step=1)\n"
          ]
        }
      ]
    },
    {
      "cell_type": "code",
      "source": [
        "Criando uma Series com indices Personalizados"
      ],
      "metadata": {
        "id": "O-I9yX5Z34Gz"
      },
      "execution_count": null,
      "outputs": []
    },
    {
      "cell_type": "markdown",
      "source": [],
      "metadata": {
        "id": "MflzDpPB37Gh"
      }
    },
    {
      "cell_type": "code",
      "source": [
        "s2 = pd.Series([1, 2, 3, 4, 5], index= ['a','b','c', 'd', 'e'])\n",
        "print(s2)"
      ],
      "metadata": {
        "colab": {
          "base_uri": "https://localhost:8080/"
        },
        "id": "BOielgdI4DSf",
        "outputId": "f77b3ce2-d4e0-4bed-aa5a-f4a085048445"
      },
      "execution_count": 7,
      "outputs": [
        {
          "output_type": "stream",
          "name": "stdout",
          "text": [
            "a    1\n",
            "b    2\n",
            "c    3\n",
            "d    4\n",
            "e    5\n",
            "dtype: int64\n"
          ]
        }
      ]
    },
    {
      "cell_type": "code",
      "source": [
        "s2.index"
      ],
      "metadata": {
        "colab": {
          "base_uri": "https://localhost:8080/"
        },
        "id": "Tnh4e4zH4m3x",
        "outputId": "2b71203d-adc5-44ee-dbfa-12b05d424664"
      },
      "execution_count": 8,
      "outputs": [
        {
          "output_type": "execute_result",
          "data": {
            "text/plain": [
              "Index(['a', 'b', 'c', 'd', 'e'], dtype='object')"
            ]
          },
          "metadata": {},
          "execution_count": 8
        }
      ]
    },
    {
      "cell_type": "code",
      "source": [
        "s2['a']=100\n",
        "s2"
      ],
      "metadata": {
        "colab": {
          "base_uri": "https://localhost:8080/",
          "height": 241
        },
        "id": "jEHUlJyM4p43",
        "outputId": "357febb0-2237-4a7f-ef52-7f5b09d24ade"
      },
      "execution_count": 10,
      "outputs": [
        {
          "output_type": "execute_result",
          "data": {
            "text/plain": [
              "a    100\n",
              "b      2\n",
              "c      3\n",
              "d      4\n",
              "e      5\n",
              "dtype: int64"
            ],
            "text/html": [
              "<div>\n",
              "<style scoped>\n",
              "    .dataframe tbody tr th:only-of-type {\n",
              "        vertical-align: middle;\n",
              "    }\n",
              "\n",
              "    .dataframe tbody tr th {\n",
              "        vertical-align: top;\n",
              "    }\n",
              "\n",
              "    .dataframe thead th {\n",
              "        text-align: right;\n",
              "    }\n",
              "</style>\n",
              "<table border=\"1\" class=\"dataframe\">\n",
              "  <thead>\n",
              "    <tr style=\"text-align: right;\">\n",
              "      <th></th>\n",
              "      <th>0</th>\n",
              "    </tr>\n",
              "  </thead>\n",
              "  <tbody>\n",
              "    <tr>\n",
              "      <th>a</th>\n",
              "      <td>100</td>\n",
              "    </tr>\n",
              "    <tr>\n",
              "      <th>b</th>\n",
              "      <td>2</td>\n",
              "    </tr>\n",
              "    <tr>\n",
              "      <th>c</th>\n",
              "      <td>3</td>\n",
              "    </tr>\n",
              "    <tr>\n",
              "      <th>d</th>\n",
              "      <td>4</td>\n",
              "    </tr>\n",
              "    <tr>\n",
              "      <th>e</th>\n",
              "      <td>5</td>\n",
              "    </tr>\n",
              "  </tbody>\n",
              "</table>\n",
              "</div><br><label><b>dtype:</b> int64</label>"
            ]
          },
          "metadata": {},
          "execution_count": 10
        }
      ]
    },
    {
      "cell_type": "code",
      "source": [
        "s2[s2>4]"
      ],
      "metadata": {
        "colab": {
          "base_uri": "https://localhost:8080/",
          "height": 146
        },
        "id": "OXZXCLoI458V",
        "outputId": "c981fb05-70f1-4a9c-bc61-4f3e7e76bac3"
      },
      "execution_count": 11,
      "outputs": [
        {
          "output_type": "execute_result",
          "data": {
            "text/plain": [
              "a    100\n",
              "e      5\n",
              "dtype: int64"
            ],
            "text/html": [
              "<div>\n",
              "<style scoped>\n",
              "    .dataframe tbody tr th:only-of-type {\n",
              "        vertical-align: middle;\n",
              "    }\n",
              "\n",
              "    .dataframe tbody tr th {\n",
              "        vertical-align: top;\n",
              "    }\n",
              "\n",
              "    .dataframe thead th {\n",
              "        text-align: right;\n",
              "    }\n",
              "</style>\n",
              "<table border=\"1\" class=\"dataframe\">\n",
              "  <thead>\n",
              "    <tr style=\"text-align: right;\">\n",
              "      <th></th>\n",
              "      <th>0</th>\n",
              "    </tr>\n",
              "  </thead>\n",
              "  <tbody>\n",
              "    <tr>\n",
              "      <th>a</th>\n",
              "      <td>100</td>\n",
              "    </tr>\n",
              "    <tr>\n",
              "      <th>e</th>\n",
              "      <td>5</td>\n",
              "    </tr>\n",
              "  </tbody>\n",
              "</table>\n",
              "</div><br><label><b>dtype:</b> int64</label>"
            ]
          },
          "metadata": {},
          "execution_count": 11
        }
      ]
    },
    {
      "cell_type": "markdown",
      "source": [
        "DataFrame\n",
        "Uma estrutura de dados tabular bidimensional com eixos rotulados"
      ],
      "metadata": {
        "id": "fWqz-DpX5knF"
      }
    },
    {
      "cell_type": "code",
      "source": [
        "# Criando um dataframe a partir de um dicionario"
      ],
      "metadata": {
        "id": "s9vhdd7S5vWU"
      },
      "execution_count": null,
      "outputs": []
    },
    {
      "cell_type": "code",
      "source": [
        "dados = {\n",
        "    'Cidades de SC': ['Joinville', 'Florianopolis', 'Blumenau', 'São Jose', 'Itajai'],\n",
        "    'Populacao': [600100, 500076, 380597, 270299, 280000],\n",
        "    'IDH': [0.809, 0.849, 0.800, 0.795, 0.802],\n",
        "    'Ano de emancipação': [1851, 1726, 1880, 1833, 1858]\n",
        "}\n",
        "\n",
        "print(\"dados:\\n\", dados)"
      ],
      "metadata": {
        "colab": {
          "base_uri": "https://localhost:8080/"
        },
        "id": "WJY7eD_m55A1",
        "outputId": "8a76b0bb-7da7-4e31-9c8e-12011ec6147d"
      },
      "execution_count": 13,
      "outputs": [
        {
          "output_type": "stream",
          "name": "stdout",
          "text": [
            "dados:\n",
            " {'Cidades de SC': ['Joinville', 'Florianopolis', 'Blumenau', 'São Jose', 'Itajai'], 'Populacao': [600100, 500076, 380597, 270299, 280000], 'IDH': [0.809, 0.849, 0.8, 0.795, 0.802], 'Ano de emancipação': [1851, 1726, 1880, 1833, 1858]}\n"
          ]
        }
      ]
    },
    {
      "cell_type": "code",
      "source": [
        "df_sc = pd.DataFrame(dados)\n",
        "print(df_sc)"
      ],
      "metadata": {
        "colab": {
          "base_uri": "https://localhost:8080/"
        },
        "id": "d0J_kOl77sNu",
        "outputId": "f814f0cd-f7bc-4868-aaa4-e4c1fd08affb"
      },
      "execution_count": 15,
      "outputs": [
        {
          "output_type": "stream",
          "name": "stdout",
          "text": [
            "   Cidades de SC  Populacao    IDH  Ano de emancipação\n",
            "0      Joinville     600100  0.809                1851\n",
            "1  Florianopolis     500076  0.849                1726\n",
            "2       Blumenau     380597  0.800                1880\n",
            "3       São Jose     270299  0.795                1833\n",
            "4         Itajai     280000  0.802                1858\n"
          ]
        }
      ]
    },
    {
      "cell_type": "markdown",
      "source": [],
      "metadata": {
        "id": "GFF67wyU79J7"
      }
    },
    {
      "cell_type": "code",
      "source": [
        "# Visualizando as primera linhas\n",
        "print(df_sc.head(3))"
      ],
      "metadata": {
        "colab": {
          "base_uri": "https://localhost:8080/"
        },
        "id": "e-6QQYN57_bi",
        "outputId": "e2841952-6a56-4b7d-cfc9-11475a2b3c89"
      },
      "execution_count": 17,
      "outputs": [
        {
          "output_type": "stream",
          "name": "stdout",
          "text": [
            "   Cidades de SC  Populacao    IDH  Ano de emancipação\n",
            "0      Joinville     600100  0.809                1851\n",
            "1  Florianopolis     500076  0.849                1726\n",
            "2       Blumenau     380597  0.800                1880\n"
          ]
        }
      ]
    },
    {
      "cell_type": "code",
      "source": [
        "print(df_sc.tail)"
      ],
      "metadata": {
        "colab": {
          "base_uri": "https://localhost:8080/"
        },
        "id": "-Ap660Q88iW-",
        "outputId": "394d876c-282f-4461-c11d-87e677c7c257"
      },
      "execution_count": 18,
      "outputs": [
        {
          "output_type": "stream",
          "name": "stdout",
          "text": [
            "<bound method NDFrame.tail of    Cidades de SC  Populacao    IDH  Ano de emancipação\n",
            "0      Joinville     600100  0.809                1851\n",
            "1  Florianopolis     500076  0.849                1726\n",
            "2       Blumenau     380597  0.800                1880\n",
            "3       São Jose     270299  0.795                1833\n",
            "4         Itajai     280000  0.802                1858>\n"
          ]
        }
      ]
    },
    {
      "cell_type": "markdown",
      "source": [
        "#obter uma amostra aleatoria\n"
      ],
      "metadata": {
        "id": "QYmI1wwL8vpj"
      }
    },
    {
      "cell_type": "code",
      "source": [
        "print (df_sc.sample(2))"
      ],
      "metadata": {
        "colab": {
          "base_uri": "https://localhost:8080/"
        },
        "id": "c7hTvPNa9AdN",
        "outputId": "dffe2ccd-5822-4908-c368-8e2e56d0f864"
      },
      "execution_count": 27,
      "outputs": [
        {
          "output_type": "stream",
          "name": "stdout",
          "text": [
            "   Cidades de SC  Populacao    IDH  Ano de emancipação\n",
            "3       São Jose     270299  0.795                1833\n",
            "1  Florianopolis     500076  0.849                1726\n"
          ]
        }
      ]
    },
    {
      "cell_type": "markdown",
      "source": [
        "#acessando colunas ou mudando colunas de posição"
      ],
      "metadata": {
        "id": "hmJ2kFKE9NMH"
      }
    },
    {
      "cell_type": "code",
      "source": [
        "print(df_sc[['Cidades de SC', 'Populacao']])\n"
      ],
      "metadata": {
        "colab": {
          "base_uri": "https://localhost:8080/"
        },
        "id": "566F-KoD9P3D",
        "outputId": "7a8c712a-67d0-4bb1-d719-41ef36efad9c"
      },
      "execution_count": 32,
      "outputs": [
        {
          "output_type": "stream",
          "name": "stdout",
          "text": [
            "   Cidades de SC  Populacao\n",
            "0      Joinville     600100\n",
            "1  Florianopolis     500076\n",
            "2       Blumenau     380597\n",
            "3       São Jose     270299\n",
            "4         Itajai     280000\n"
          ]
        }
      ]
    }
  ]
}